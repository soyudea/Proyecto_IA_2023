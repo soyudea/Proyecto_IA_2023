{
  "nbformat": 4,
  "nbformat_minor": 0,
  "metadata": {
    "colab": {
      "provenance": [],
      "authorship_tag": "ABX9TyNfzxnfr5A1M0w7P9pVsmJy",
      "include_colab_link": true
    },
    "kernelspec": {
      "name": "python3",
      "display_name": "Python 3"
    },
    "language_info": {
      "name": "python"
    }
  },
  "cells": [
    {
      "cell_type": "markdown",
      "metadata": {
        "id": "view-in-github",
        "colab_type": "text"
      },
      "source": [
        "<a href=\"https://colab.research.google.com/github/soyudea/Proyecto_IA_2023/blob/main/Proyecto_Entrega_Final.ipynb\" target=\"_parent\"><img src=\"https://colab.research.google.com/assets/colab-badge.svg\" alt=\"Open In Colab\"/></a>"
      ]
    },
    {
      "cell_type": "markdown",
      "source": [
        "\n",
        "**Librerías usadas en el Proyectos**"
      ],
      "metadata": {
        "id": "og0BhZv2znmY"
      }
    },
    {
      "cell_type": "code",
      "source": [
        "import pandas as pd\n",
        "import numpy as np\n",
        "import math\n",
        "from seaborn import distplot\n",
        "import seaborn as sns\n",
        "import matplotlib.pyplot as plt\n",
        "from sklearn.preprocessing import StandardScaler\n",
        "from sklearn.preprocessing import MinMaxScaler\n",
        "from sklearn.model_selection import KFold\n",
        "from sklearn.metrics import f1_score\n",
        "from sklearn.metrics import confusion_matrix\n",
        "from sklearn.metrics import classification_report\n",
        "from sklearn.pipeline import make_pipeline\n",
        "\n",
        "from sklearn.tree import DecisionTreeClassifier\n",
        "from sklearn.model_selection import train_test_split\n",
        "from sklearn.metrics import median_absolute_error, r2_score, mean_squared_error\n",
        "from matplotlib.patches import split_path_inout\n",
        "from imblearn.over_sampling import RandomOverSampler\n",
        "from sklearn.metrics import average_precision_score\n",
        "from sklearn.metrics import roc_auc_score\n",
        "from sklearn.metrics import roc_curve, auc\n",
        "from matplotlib import pyplot\n",
        "\n",
        "from sklearn.svm import SVC\n",
        "from sklearn import svm, datasets\n",
        "from sklearn.model_selection import GridSearchCV\n",
        "from sklearn.ensemble import RandomForestClassifier\n",
        "\n",
        "from collections import Counter\n",
        "from sklearn.datasets import make_classification\n",
        "from imblearn.over_sampling import RandomOverSampler\n",
        "\n",
        "from sklearn.decomposition import PCA"
      ],
      "metadata": {
        "id": "jqPFa8lQzBgx"
      },
      "execution_count": 2,
      "outputs": []
    },
    {
      "cell_type": "markdown",
      "source": [
        "**Carga del dataset **\n",
        "https://www.kaggle.com/competitions/playground-series-s3e2/data?select=train.csv"
      ],
      "metadata": {
        "id": "zfQonFKR0HkP"
      }
    },
    {
      "cell_type": "code",
      "source": [
        "#Se carga dataset obtenido de Kaggle de competencia\n",
        "#==============================================================\n",
        "datos = pd.read_csv('train.csv', sep=\",\")\n",
        "datos_test = pd.read_csv('test.csv', sep=\",\")\n",
        "df =datos.copy()\n",
        "df_test=datos_test.copy()"
      ],
      "metadata": {
        "id": "aUSs9Dy7zB06"
      },
      "execution_count": 3,
      "outputs": []
    },
    {
      "cell_type": "markdown",
      "source": [
        "**Se agregan valores nulos al 5 % de las muestras en los campos age, avg_glucose_level**"
      ],
      "metadata": {
        "id": "8HksxgCb1lv-"
      }
    },
    {
      "cell_type": "code",
      "source": [
        "#Se adiciona valores nulos al atributo age y avg_glucose_level\n",
        "#=============================================================\n",
        "#df =datos.copy()\n",
        "lista=[]\n",
        "porc_nulos =int(np.shape(df)[0]*5/100)   #Calculo de porcentaje de datos nulos\n",
        "rango_df = np.shape(df)[0]\n",
        "\n",
        "for i in range(porc_nulos):\n",
        "    num_aleatprio = np.random.randint(rango_df) \n",
        "    lista.append(num_aleatprio)\n",
        "\n",
        "\n",
        "for i in lista:\n",
        "    df.at[i, \"age\"] = np.nan\n",
        "\n",
        "lista=[]\n",
        "rango_df = np.shape(df)[0]\n",
        "\n",
        "for i in range(porc_nulos):\n",
        "    num_aleatprio = np.random.randint(rango_df) \n",
        "    lista.append(num_aleatprio)\n",
        "\n",
        "\n",
        "for i in lista:\n",
        "    df.at[i, \"avg_glucose_level\"] = np.nan"
      ],
      "metadata": {
        "id": "jXbdYSQI2NG1"
      },
      "execution_count": 4,
      "outputs": []
    },
    {
      "cell_type": "markdown",
      "source": [
        "**Estado del dataset despues de agregar valores nulos**"
      ],
      "metadata": {
        "id": "eVKExMcH2cF8"
      }
    },
    {
      "cell_type": "code",
      "source": [
        "df.isna().sum().sort_values()"
      ],
      "metadata": {
        "colab": {
          "base_uri": "https://localhost:8080/"
        },
        "id": "OlUvWR6z2Y7C",
        "outputId": "0fbcbd8b-7788-469c-c7a1-03f1a9887778"
      },
      "execution_count": 5,
      "outputs": [
        {
          "output_type": "execute_result",
          "data": {
            "text/plain": [
              "id                     0\n",
              "gender                 0\n",
              "hypertension           0\n",
              "heart_disease          0\n",
              "ever_married           0\n",
              "work_type              0\n",
              "Residence_type         0\n",
              "bmi                    0\n",
              "smoking_status         0\n",
              "stroke                 0\n",
              "avg_glucose_level    739\n",
              "age                  750\n",
              "dtype: int64"
            ]
          },
          "metadata": {},
          "execution_count": 5
        }
      ]
    },
    {
      "cell_type": "markdown",
      "source": [
        "**Se agregan valores promedios en aquellas muestras con valores nulos**"
      ],
      "metadata": {
        "id": "Z8nBkjIK2t58"
      }
    },
    {
      "cell_type": "code",
      "source": [
        "#Se agregan valores promedios al atributo age cuando son nulos\n",
        "#==================================================================\n",
        "\n",
        "mean_age = df['age'].mean().astype(int) #Calculo media de las edades\n",
        "\n",
        "for i in range(len(df)):\n",
        "    if math. isnan(df.at[i, \"age\"]):\n",
        "       df.at[i, \"age\"] = mean_age"
      ],
      "metadata": {
        "id": "rY7XM-LG22qD"
      },
      "execution_count": 6,
      "outputs": []
    },
    {
      "cell_type": "code",
      "source": [
        "#Se agrega valores promedios al atributo avg_glucose_level cuando son nulos\n",
        "#===============================================================================================\n",
        "mean_avg_glucose_level = df['avg_glucose_level'].mean().astype(int) #Calculo media de las edades\n",
        "\n",
        "for i in range(len(df)):\n",
        "    if math. isnan(df.at[i, \"avg_glucose_level\"]):\n",
        "       df.at[i, \"avg_glucose_level\"] = mean_avg_glucose_level"
      ],
      "metadata": {
        "id": "OFiMq3L029cc"
      },
      "execution_count": 7,
      "outputs": []
    },
    {
      "cell_type": "markdown",
      "source": [
        "**Estado final del dataset despues de reemplazar valores nulos con valores promedios**"
      ],
      "metadata": {
        "id": "o3B9-Xso3LSW"
      }
    },
    {
      "cell_type": "code",
      "source": [
        "datos['age'] = datos['age'].astype('int64') \n",
        "datos.info()"
      ],
      "metadata": {
        "colab": {
          "base_uri": "https://localhost:8080/"
        },
        "id": "6KGT2H7b3c_C",
        "outputId": "3eedd3e1-e401-43ee-ec3f-d3a5bbc5bf52"
      },
      "execution_count": 8,
      "outputs": [
        {
          "output_type": "stream",
          "name": "stdout",
          "text": [
            "<class 'pandas.core.frame.DataFrame'>\n",
            "RangeIndex: 15304 entries, 0 to 15303\n",
            "Data columns (total 12 columns):\n",
            " #   Column             Non-Null Count  Dtype  \n",
            "---  ------             --------------  -----  \n",
            " 0   id                 15304 non-null  int64  \n",
            " 1   gender             15304 non-null  object \n",
            " 2   age                15304 non-null  int64  \n",
            " 3   hypertension       15304 non-null  int64  \n",
            " 4   heart_disease      15304 non-null  int64  \n",
            " 5   ever_married       15304 non-null  object \n",
            " 6   work_type          15304 non-null  object \n",
            " 7   Residence_type     15304 non-null  object \n",
            " 8   avg_glucose_level  15304 non-null  float64\n",
            " 9   bmi                15304 non-null  float64\n",
            " 10  smoking_status     15304 non-null  object \n",
            " 11  stroke             15304 non-null  int64  \n",
            "dtypes: float64(2), int64(5), object(5)\n",
            "memory usage: 1.4+ MB\n"
          ]
        }
      ]
    },
    {
      "cell_type": "markdown",
      "source": [
        "**Estado del dataSet**"
      ],
      "metadata": {
        "id": "6p84Q1vj34i9"
      }
    },
    {
      "cell_type": "code",
      "source": [
        "df.info()"
      ],
      "metadata": {
        "colab": {
          "base_uri": "https://localhost:8080/"
        },
        "id": "sjPRqj8B314O",
        "outputId": "a933dde4-b95a-4f6c-ec48-10fea4246998"
      },
      "execution_count": 12,
      "outputs": [
        {
          "output_type": "stream",
          "name": "stdout",
          "text": [
            "<class 'pandas.core.frame.DataFrame'>\n",
            "RangeIndex: 15304 entries, 0 to 15303\n",
            "Data columns (total 12 columns):\n",
            " #   Column             Non-Null Count  Dtype  \n",
            "---  ------             --------------  -----  \n",
            " 0   id                 15304 non-null  int64  \n",
            " 1   gender             15304 non-null  object \n",
            " 2   age                15304 non-null  float64\n",
            " 3   hypertension       15304 non-null  int64  \n",
            " 4   heart_disease      15304 non-null  int64  \n",
            " 5   ever_married       15304 non-null  object \n",
            " 6   work_type          15304 non-null  object \n",
            " 7   Residence_type     15304 non-null  object \n",
            " 8   avg_glucose_level  15304 non-null  float64\n",
            " 9   bmi                15304 non-null  float64\n",
            " 10  smoking_status     15304 non-null  object \n",
            " 11  stroke             15304 non-null  int64  \n",
            "dtypes: float64(3), int64(4), object(5)\n",
            "memory usage: 1.4+ MB\n"
          ]
        }
      ]
    },
    {
      "cell_type": "code",
      "source": [
        "df.isnull().sum()"
      ],
      "metadata": {
        "colab": {
          "base_uri": "https://localhost:8080/"
        },
        "id": "3QLodzHl4Dk1",
        "outputId": "3761929a-6b17-4fdf-a277-682913868b38"
      },
      "execution_count": 13,
      "outputs": [
        {
          "output_type": "execute_result",
          "data": {
            "text/plain": [
              "id                   0\n",
              "gender               0\n",
              "age                  0\n",
              "hypertension         0\n",
              "heart_disease        0\n",
              "ever_married         0\n",
              "work_type            0\n",
              "Residence_type       0\n",
              "avg_glucose_level    0\n",
              "bmi                  0\n",
              "smoking_status       0\n",
              "stroke               0\n",
              "dtype: int64"
            ]
          },
          "metadata": {},
          "execution_count": 13
        }
      ]
    },
    {
      "cell_type": "markdown",
      "source": [
        "**Discretización de las variables 'age', 'avge_glucose_level', 'bmi'**"
      ],
      "metadata": {
        "id": "lvA39Iz76T7t"
      }
    },
    {
      "cell_type": "code",
      "source": [
        "#Se transforma campo numerico age a un atributo con valores categoricos, se discretisa\n",
        "#========================================================================================================================================================\n",
        "\n",
        "df = datos.copy()\n",
        "\n",
        "edades = pd.cut(df['age'], bins = [0,10,20,40,np.inf], labels =['niño','joven','adulto','mayor'], include_lowest=True, retbins = True)\n",
        "df['new_age'] = list(edades[0]) \n",
        "\n",
        "glucosa = pd.cut(df['avg_glucose_level'], bins = [0,100,125,np.inf], labels = ['normal', 'prediabetico','diabetico'], include_lowest=True, retbins=True)\n",
        "df[\"avg_glucose\"] = list(glucosa[0])\n",
        "\n",
        "im = pd.cut(df['bmi'], bins = [18.5,24.9,25,29.9,np.inf], labels = ['low_weight', 'Healthy_weight','overweight','obesity'], include_lowest=True, retbins=True)\n",
        "df['bmi_range'] = list(im[0])\n",
        "df.shape"
      ],
      "metadata": {
        "colab": {
          "base_uri": "https://localhost:8080/"
        },
        "id": "Buk7M13P6Ne1",
        "outputId": "cc5675ca-8ad1-480c-c4db-41371935f41d"
      },
      "execution_count": 9,
      "outputs": [
        {
          "output_type": "execute_result",
          "data": {
            "text/plain": [
              "(15304, 15)"
            ]
          },
          "metadata": {},
          "execution_count": 9
        }
      ]
    },
    {
      "cell_type": "markdown",
      "source": [
        "**Transformación del dataset, de variables categoricas a númericas**"
      ],
      "metadata": {
        "id": "ce7c3SUa5l3N"
      }
    },
    {
      "cell_type": "code",
      "source": [
        "#Se obtiene un dataset con todos sus atributos numéricos\n",
        "#========================================================================================================================================================================================================================================\n",
        "#Quitar la variable work_type\n",
        "\n",
        "vnumericas = df.drop([\"id\",\"avg_glucose_level\",\"age\",\"bmi\",\"new_age\",\"avg_glucose\",\"bmi_range\",\"gender\",\"ever_married\",\"work_type\",\"Residence_type\",\"smoking_status\", \"bmi_range\"],axis=1)#SE crea variable númerica sin las categoricas \n",
        "vcategoricas=df.filter([\"new_age\",\"avg_glucose\",\"bmi_range\",\"gender\",\"ever_married\",\"work_type\",\"Residence_type\",\"smoking_status\", \"bmi_range\"]) \n",
        "\n",
        "#vnumericas = df.drop([\"id\",\"avg_glucose_level\",\"age\",\"bmi\",\"new_age\",\"avg_glucose\",\"bmi_range\",\"gender\",\"ever_married\",\"work_type\",\"Residence_type\",\"smoking_status\", \"bmi_range\"],axis=1)#SE crea variable númerica sin las categoricas \n",
        "#vcategoricas=df.filter([\"new_age\",\"avg_glucose\",\"bmi_range\",\"gender\",\"ever_married\",\"smoking_status\"]) \n",
        "\n",
        "cat_numerica=pd.get_dummies(vcategoricas,drop_first=False) \n",
        "df=pd.concat([cat_numerica,vnumericas],axis=1)\n",
        "#datos = df\n",
        "df.shape"
      ],
      "metadata": {
        "colab": {
          "base_uri": "https://localhost:8080/"
        },
        "id": "3iiqae9P5kRV",
        "outputId": "f74742cc-eb1f-4b73-c757-ed820b1a3d87"
      },
      "execution_count": 10,
      "outputs": [
        {
          "output_type": "execute_result",
          "data": {
            "text/plain": [
              "(15304, 34)"
            ]
          },
          "metadata": {},
          "execution_count": 10
        }
      ]
    },
    {
      "cell_type": "markdown",
      "source": [
        "**Organización del dataset final**"
      ],
      "metadata": {
        "id": "u6vbHrAL6kiw"
      }
    },
    {
      "cell_type": "code",
      "source": [
        "X = df[:len(df)]\n",
        "y = df['stroke']\n",
        "X = X.drop(columns=['stroke'])\n",
        "X.columns\n",
        "X.shape"
      ],
      "metadata": {
        "colab": {
          "base_uri": "https://localhost:8080/"
        },
        "id": "CW8dNTxn6i1o",
        "outputId": "3cc5f367-ecdd-4aee-c356-75d16ed3d84c"
      },
      "execution_count": 11,
      "outputs": [
        {
          "output_type": "execute_result",
          "data": {
            "text/plain": [
              "(15304, 33)"
            ]
          },
          "metadata": {},
          "execution_count": 11
        }
      ]
    },
    {
      "cell_type": "markdown",
      "source": [
        "**Generador de muestras sintéticas**"
      ],
      "metadata": {
        "id": "uMTBscUm5N2b"
      }
    },
    {
      "cell_type": "code",
      "source": [
        "pca=PCA(n_components=30) \n",
        "pca.fit(X) #\n",
        "X_pca=pca.transform(X)"
      ],
      "metadata": {
        "id": "CgzS65QX60QD"
      },
      "execution_count": 12,
      "outputs": []
    },
    {
      "cell_type": "code",
      "source": [
        "#sampling_strategyfloat, str, dict or callable, default=’auto’\n",
        "\n",
        "ros = RandomOverSampler(random_state=42, sampling_strategy=1.0)                          \n",
        "Xres, yres = ros.fit_resample(X_pca, y)\n",
        "Xtrain, Xtst, ytrain, ytst = train_test_split(Xres,yres, test_size=0.1) #Se toma el 90 % de los datos para Entrenar\n",
        "print (Xtrain.shape, ytrain.shape, Xtst.shape, ytst.shape)\n",
        "X=Xtrain\n",
        "y=ytrain"
      ],
      "metadata": {
        "colab": {
          "base_uri": "https://localhost:8080/"
        },
        "id": "mcgv6Q6I5V0t",
        "outputId": "a27cff36-8321-499d-f4a9-4e1322ac5c39"
      },
      "execution_count": 13,
      "outputs": [
        {
          "output_type": "stream",
          "name": "stdout",
          "text": [
            "(26409, 30) (26409,) (2935, 30) (2935,)\n"
          ]
        }
      ]
    },
    {
      "cell_type": "markdown",
      "source": [
        "**Calculo pesos de la clase Parametro que se usa para minimizar el efecto del desbalance del dataset**"
      ],
      "metadata": {
        "id": "Hcl7l4Lh7B5T"
      }
    },
    {
      "cell_type": "code",
      "source": [
        "def dar_peso_clase():\n",
        "  Xtrain, Xtest, ytrain, ytest = train_test_split(X, y, test_size = 0.2, train_size = 0.8, random_state = 17)\n",
        "  Number_Muestras_por_Clase = ytrain.value_counts()\n",
        "  Number_Muestras_por_Clase = Number_Muestras_por_Clase.sort_index(axis = 0, ascending = True)\n",
        "  Numero_de_Clases = len(Number_Muestras_por_Clase.index)\n",
        "  Peso_por_Clase = len(ytrain)/(Numero_de_Clases*Number_Muestras_por_Clase)\n",
        "  return Peso_por_Clase"
      ],
      "metadata": {
        "id": "pOiWnmMT7YZp"
      },
      "execution_count": 14,
      "outputs": []
    },
    {
      "cell_type": "markdown",
      "source": [
        "**Modelo DecisionTreeClassifie**r https://scikit-learn.org/stable/modules/generated/sklearn.tree.DecisionTreeClassifier.html"
      ],
      "metadata": {
        "id": "usqyYkeZ7frL"
      }
    },
    {
      "cell_type": "code",
      "source": [
        "#Entrenamiento del modelo  DecisionTreeClassifier con el 90% de las muestras\n",
        "#=================================================================================================================\n",
        "from sklearn.linear_model import LassoCV\n",
        "from sklearn.metrics import roc_auc_score\n",
        "kf = KFold(n_splits=20, random_state = True,shuffle=True)\n",
        "\n",
        "preds = []\n",
        "scores = []\n",
        "\n",
        "model_params = {\n",
        "    'precompute': 'auto',\n",
        "    'fit_intercept': True,\n",
        "    'max_iter': 100000,\n",
        "    'verbose': False,\n",
        "    'eps': 1e-04, \n",
        "    'n_alphas': 1000,\n",
        "    'n_jobs': -1,\n",
        "}\n",
        "weight= dar_peso_clase()\n",
        "\n",
        "classifier = DecisionTreeClassifier(criterion='gini',\n",
        "                                    ccp_alpha=0.000001,\n",
        "                                    min_samples_split=10,\n",
        "                                    class_weight= {0: weight[0], 1: weight[1]},\n",
        "                                    random_state=42)  #Falta parametrizar\n",
        "X_test =0\n",
        "y_test =0\n",
        "for train_index, test_index in kf.split(X):\n",
        "\n",
        "    #X_train, X_test = X_pca.iloc[train_index], X.iloc[test_index] #Linea de código cuando no usamos PCA\n",
        "    X_train, X_test = X[train_index], X[test_index]  #linea de código para pca\n",
        "    y_train, y_test = y.iloc[train_index], y.iloc[test_index]\n",
        "\n",
        "    #modelo = LassoCV(**model_params)\n",
        "    modelo = classifier.fit(X_train, y_train)\n",
        "    y_pred = modelo.predict(X_test)\n",
        "\n",
        "    print()\n",
        "    print(confusion_matrix(y_test, y_pred))\n",
        "    print(classification_report(y_test, y_pred, digits =4, labels=[0,1]))\n",
        "    preds.append(modelo.predict(X_test))\n",
        "    s = roc_auc_score(y_test, modelo.predict(X_test))\n",
        "    print(f'Best val auc: {s: .4f}')\n",
        "    scores.append(s)\n",
        "    print()"
      ],
      "metadata": {
        "colab": {
          "base_uri": "https://localhost:8080/"
        },
        "id": "JJz0jvd37r_i",
        "outputId": "a1dc9083-95ed-4137-e03a-776eb7c57ba0"
      },
      "execution_count": 26,
      "outputs": [
        {
          "output_type": "stream",
          "name": "stdout",
          "text": [
            "\n",
            "[[494 178]\n",
            " [ 69 580]]\n",
            "              precision    recall  f1-score   support\n",
            "\n",
            "           0     0.8774    0.7351    0.8000       672\n",
            "           1     0.7652    0.8937    0.8244       649\n",
            "\n",
            "    accuracy                         0.8130      1321\n",
            "   macro avg     0.8213    0.8144    0.8122      1321\n",
            "weighted avg     0.8223    0.8130    0.8120      1321\n",
            "\n",
            "Best val auc:  0.8144\n",
            "\n",
            "\n",
            "[[455 150]\n",
            " [ 90 626]]\n",
            "              precision    recall  f1-score   support\n",
            "\n",
            "           0     0.8349    0.7521    0.7913       605\n",
            "           1     0.8067    0.8743    0.8391       716\n",
            "\n",
            "    accuracy                         0.8183      1321\n",
            "   macro avg     0.8208    0.8132    0.8152      1321\n",
            "weighted avg     0.8196    0.8183    0.8172      1321\n",
            "\n",
            "Best val auc:  0.8132\n",
            "\n",
            "\n",
            "[[471 183]\n",
            " [ 77 590]]\n",
            "              precision    recall  f1-score   support\n",
            "\n",
            "           0     0.8595    0.7202    0.7837       654\n",
            "           1     0.7633    0.8846    0.8194       667\n",
            "\n",
            "    accuracy                         0.8032      1321\n",
            "   macro avg     0.8114    0.8024    0.8016      1321\n",
            "weighted avg     0.8109    0.8032    0.8017      1321\n",
            "\n",
            "Best val auc:  0.8024\n",
            "\n",
            "\n",
            "[[512 170]\n",
            " [ 93 546]]\n",
            "              precision    recall  f1-score   support\n",
            "\n",
            "           0     0.8463    0.7507    0.7956       682\n",
            "           1     0.7626    0.8545    0.8059       639\n",
            "\n",
            "    accuracy                         0.8009      1321\n",
            "   macro avg     0.8044    0.8026    0.8008      1321\n",
            "weighted avg     0.8058    0.8009    0.8006      1321\n",
            "\n",
            "Best val auc:  0.8026\n",
            "\n",
            "\n",
            "[[485 187]\n",
            " [ 69 580]]\n",
            "              precision    recall  f1-score   support\n",
            "\n",
            "           0     0.8755    0.7217    0.7912       672\n",
            "           1     0.7562    0.8937    0.8192       649\n",
            "\n",
            "    accuracy                         0.8062      1321\n",
            "   macro avg     0.8158    0.8077    0.8052      1321\n",
            "weighted avg     0.8169    0.8062    0.8050      1321\n",
            "\n",
            "Best val auc:  0.8077\n",
            "\n",
            "\n",
            "[[487 194]\n",
            " [ 67 573]]\n",
            "              precision    recall  f1-score   support\n",
            "\n",
            "           0     0.8791    0.7151    0.7887       681\n",
            "           1     0.7471    0.8953    0.8145       640\n",
            "\n",
            "    accuracy                         0.8024      1321\n",
            "   macro avg     0.8131    0.8052    0.8016      1321\n",
            "weighted avg     0.8151    0.8024    0.8012      1321\n",
            "\n",
            "Best val auc:  0.8052\n",
            "\n",
            "\n",
            "[[461 186]\n",
            " [ 73 601]]\n",
            "              precision    recall  f1-score   support\n",
            "\n",
            "           0     0.8633    0.7125    0.7807       647\n",
            "           1     0.7637    0.8917    0.8227       674\n",
            "\n",
            "    accuracy                         0.8039      1321\n",
            "   macro avg     0.8135    0.8021    0.8017      1321\n",
            "weighted avg     0.8125    0.8039    0.8021      1321\n",
            "\n",
            "Best val auc:  0.8021\n",
            "\n",
            "\n",
            "[[484 181]\n",
            " [ 84 572]]\n",
            "              precision    recall  f1-score   support\n",
            "\n",
            "           0     0.8521    0.7278    0.7851       665\n",
            "           1     0.7596    0.8720    0.8119       656\n",
            "\n",
            "    accuracy                         0.7994      1321\n",
            "   macro avg     0.8059    0.7999    0.7985      1321\n",
            "weighted avg     0.8062    0.7994    0.7984      1321\n",
            "\n",
            "Best val auc:  0.7999\n",
            "\n",
            "\n",
            "[[516 156]\n",
            " [ 71 578]]\n",
            "              precision    recall  f1-score   support\n",
            "\n",
            "           0     0.8790    0.7679    0.8197       672\n",
            "           1     0.7875    0.8906    0.8359       649\n",
            "\n",
            "    accuracy                         0.8282      1321\n",
            "   macro avg     0.8333    0.8292    0.8278      1321\n",
            "weighted avg     0.8341    0.8282    0.8276      1321\n",
            "\n",
            "Best val auc:  0.8292\n",
            "\n",
            "\n",
            "[[471 181]\n",
            " [ 69 599]]\n",
            "              precision    recall  f1-score   support\n",
            "\n",
            "           0     0.8722    0.7224    0.7903       652\n",
            "           1     0.7679    0.8967    0.8273       668\n",
            "\n",
            "    accuracy                         0.8106      1320\n",
            "   macro avg     0.8201    0.8095    0.8088      1320\n",
            "weighted avg     0.8195    0.8106    0.8090      1320\n",
            "\n",
            "Best val auc:  0.8095\n",
            "\n",
            "\n",
            "[[474 182]\n",
            " [ 79 585]]\n",
            "              precision    recall  f1-score   support\n",
            "\n",
            "           0     0.8571    0.7226    0.7841       656\n",
            "           1     0.7627    0.8810    0.8176       664\n",
            "\n",
            "    accuracy                         0.8023      1320\n",
            "   macro avg     0.8099    0.8018    0.8009      1320\n",
            "weighted avg     0.8096    0.8023    0.8010      1320\n",
            "\n",
            "Best val auc:  0.8018\n",
            "\n",
            "\n",
            "[[489 183]\n",
            " [ 54 594]]\n",
            "              precision    recall  f1-score   support\n",
            "\n",
            "           0     0.9006    0.7277    0.8049       672\n",
            "           1     0.7645    0.9167    0.8337       648\n",
            "\n",
            "    accuracy                         0.8205      1320\n",
            "   macro avg     0.8325    0.8222    0.8193      1320\n",
            "weighted avg     0.8338    0.8205    0.8190      1320\n",
            "\n",
            "Best val auc:  0.8222\n",
            "\n",
            "\n",
            "[[494 188]\n",
            " [ 57 581]]\n",
            "              precision    recall  f1-score   support\n",
            "\n",
            "           0     0.8966    0.7243    0.8013       682\n",
            "           1     0.7555    0.9107    0.8259       638\n",
            "\n",
            "    accuracy                         0.8144      1320\n",
            "   macro avg     0.8260    0.8175    0.8136      1320\n",
            "weighted avg     0.8284    0.8144    0.8132      1320\n",
            "\n",
            "Best val auc:  0.8175\n",
            "\n",
            "\n",
            "[[499 182]\n",
            " [ 48 591]]\n",
            "              precision    recall  f1-score   support\n",
            "\n",
            "           0     0.9122    0.7327    0.8127       681\n",
            "           1     0.7646    0.9249    0.8371       639\n",
            "\n",
            "    accuracy                         0.8258      1320\n",
            "   macro avg     0.8384    0.8288    0.8249      1320\n",
            "weighted avg     0.8408    0.8258    0.8245      1320\n",
            "\n",
            "Best val auc:  0.8288\n",
            "\n",
            "\n",
            "[[463 182]\n",
            " [ 58 617]]\n",
            "              precision    recall  f1-score   support\n",
            "\n",
            "           0     0.8887    0.7178    0.7942       645\n",
            "           1     0.7722    0.9141    0.8372       675\n",
            "\n",
            "    accuracy                         0.8182      1320\n",
            "   macro avg     0.8304    0.8160    0.8157      1320\n",
            "weighted avg     0.8291    0.8182    0.8162      1320\n",
            "\n",
            "Best val auc:  0.8160\n",
            "\n",
            "\n",
            "[[470 167]\n",
            " [ 65 618]]\n",
            "              precision    recall  f1-score   support\n",
            "\n",
            "           0     0.8785    0.7378    0.8020       637\n",
            "           1     0.7873    0.9048    0.8420       683\n",
            "\n",
            "    accuracy                         0.8242      1320\n",
            "   macro avg     0.8329    0.8213    0.8220      1320\n",
            "weighted avg     0.8313    0.8242    0.8227      1320\n",
            "\n",
            "Best val auc:  0.8213\n",
            "\n",
            "\n",
            "[[510 178]\n",
            " [ 66 566]]\n",
            "              precision    recall  f1-score   support\n",
            "\n",
            "           0     0.8854    0.7413    0.8070       688\n",
            "           1     0.7608    0.8956    0.8227       632\n",
            "\n",
            "    accuracy                         0.8152      1320\n",
            "   macro avg     0.8231    0.8184    0.8148      1320\n",
            "weighted avg     0.8257    0.8152    0.8145      1320\n",
            "\n",
            "Best val auc:  0.8184\n",
            "\n",
            "\n",
            "[[454 198]\n",
            " [ 47 621]]\n",
            "              precision    recall  f1-score   support\n",
            "\n",
            "           0     0.9062    0.6963    0.7875       652\n",
            "           1     0.7582    0.9296    0.8352       668\n",
            "\n",
            "    accuracy                         0.8144      1320\n",
            "   macro avg     0.8322    0.8130    0.8114      1320\n",
            "weighted avg     0.8313    0.8144    0.8117      1320\n",
            "\n",
            "Best val auc:  0.8130\n",
            "\n",
            "\n",
            "[[466 176]\n",
            " [ 78 600]]\n",
            "              precision    recall  f1-score   support\n",
            "\n",
            "           0     0.8566    0.7259    0.7858       642\n",
            "           1     0.7732    0.8850    0.8253       678\n",
            "\n",
            "    accuracy                         0.8076      1320\n",
            "   macro avg     0.8149    0.8054    0.8056      1320\n",
            "weighted avg     0.8138    0.8076    0.8061      1320\n",
            "\n",
            "Best val auc:  0.8054\n",
            "\n",
            "\n",
            "[[491 172]\n",
            " [ 79 578]]\n",
            "              precision    recall  f1-score   support\n",
            "\n",
            "           0     0.8614    0.7406    0.7964       663\n",
            "           1     0.7707    0.8798    0.8216       657\n",
            "\n",
            "    accuracy                         0.8098      1320\n",
            "   macro avg     0.8160    0.8102    0.8090      1320\n",
            "weighted avg     0.8162    0.8098    0.8090      1320\n",
            "\n",
            "Best val auc:  0.8102\n",
            "\n"
          ]
        }
      ]
    },
    {
      "cell_type": "markdown",
      "source": [
        "**Curva ROC para el  DecisionTreeClassifier**"
      ],
      "metadata": {
        "id": "AqipZCh875pM"
      }
    },
    {
      "cell_type": "code",
      "source": [
        "#Curva ROC Arbol de desición\n",
        "\n",
        "classes = classifier.predict(X_test) \n",
        "ns_probs = [0 for _ in range(len(y_test))]\n",
        "\n",
        "ns_auc = roc_auc_score(y_test, ns_probs,average='weighted')\n",
        "classifier_auc = roc_auc_score(y_test,classes,average='weighted')\n",
        "\n",
        "#aps = average_precision_score(y_test, ns_probs)\n",
        "#print(\"Average_presicion_score \"+str(aps))\n",
        "\n",
        "print('Sin entrenar: ROC AUC=%.3f' % (ns_auc))\n",
        "print('Algoritmo arbol de: ROC AUC=%.3f' % (classifier_auc))\n",
        "classifier_probs = classes[:]\n",
        "ns_fpr, ns_tpr, _ = roc_curve(y_test, ns_probs)\n",
        "pyplot.plot(ns_fpr, ns_tpr, linestyle='--', label='Sin entrenar')\n",
        "classifier_fpr, classifier_tpr, _ = roc_curve(y_test, classifier_probs)\n",
        "print()\n",
        "pyplot.plot(classifier_fpr, classifier_tpr, marker='.', label='Curva arbol de desición')\n",
        "pyplot.xlabel('Tasa de Falsos Positivos')\n",
        "pyplot.ylabel('Tasa de Verdaderos Positivos')\n",
        "pyplot.legend()\n",
        "pyplot.show()\n",
        "print()"
      ],
      "metadata": {
        "colab": {
          "base_uri": "https://localhost:8080/",
          "height": 518
        },
        "id": "ANFcUzzj8Ptz",
        "outputId": "f2c8054c-5d70-470c-8774-6473409c2e0c"
      },
      "execution_count": 27,
      "outputs": [
        {
          "output_type": "stream",
          "name": "stdout",
          "text": [
            "Sin entrenar: ROC AUC=0.500\n",
            "Algoritmo arbol de: ROC AUC=0.810\n",
            "\n"
          ]
        },
        {
          "output_type": "display_data",
          "data": {
            "text/plain": [
              "<Figure size 640x480 with 1 Axes>"
            ],
            "image/png": "[encoded data removed]"
          },
          "metadata": {}
        },
        {
          "output_type": "stream",
          "name": "stdout",
          "text": [
            "\n"
          ]
        }
      ]
    },
    {
      "cell_type": "markdown",
      "source": [
        "**Maquina de soporte vectorial** https://scikit-learn.org/stable/modules/generated/sklearn.svm.SVC.html"
      ],
      "metadata": {
        "id": "CIi1uPUD9LDj"
      }
    },
    {
      "cell_type": "code",
      "source": [
        "from sklearn.utils.fixes import loguniform\n",
        "param_grid = {'kernel': ['rbf'], 'C':[1, 10, 20],\n",
        "              'gamma': [1e-3, 1e-4] ,\n",
        "              \n",
        "              } \n",
        "#'tol':[1e-3, 1e-4],           \n",
        "#  'decision_function_shape':['ovo', 'ovr']\n",
        "\n",
        "svc = svm.SVC(gamma=\"scale\")\n",
        "clf = GridSearchCV(svc, param_grid, cv=5,n_jobs=2)\n",
        "clf.fit(X, y) \n",
        "parametros = pd.concat([pd.DataFrame(clf.cv_results_[\"params\"]),\n",
        "                pd.DataFrame(clf.cv_results_[\"mean_test_score\"],\n",
        "                columns=[\"Accuracy\"])],axis=1)\n",
        "print(parametros)"
      ],
      "metadata": {
        "colab": {
          "base_uri": "https://localhost:8080/"
        },
        "id": "zXHakWYq9JWC",
        "outputId": "b7772548-9cd3-406d-bd62-6688e31839c4"
      },
      "execution_count": 20,
      "outputs": [
        {
          "output_type": "stream",
          "name": "stdout",
          "text": [
            "    C   gamma kernel  Accuracy\n",
            "0   1  0.0010    rbf  0.729372\n",
            "1   1  0.0001    rbf  0.722746\n",
            "2  10  0.0010    rbf  0.729372\n",
            "3  10  0.0001    rbf  0.729372\n",
            "4  20  0.0010    rbf  0.729372\n",
            "5  20  0.0001    rbf  0.729372\n"
          ]
        }
      ]
    },
    {
      "cell_type": "code",
      "source": [
        "kf = KFold(n_splits=5, random_state = True,shuffle=True)\n",
        "c=10\n",
        "weight= dar_peso_clase()\n",
        "X_test =0\n",
        "y_test =0\n",
        "svclassifier = SVC(C=c,kernel=\"rbf\", gamma=0.0010,shrinking=False,tol=0.0010,\n",
        "                   class_weight = {0: weight[0], 1: weight[1]},\n",
        "                   decision_function_shape='ovo')\n",
        "for train_index, test_index in kf.split(X):\n",
        "    X_train, X_test = X[train_index], X[test_index]\n",
        "    y_train, y_test = y.iloc[train_index], y.iloc[test_index]\n",
        "\n",
        "    modelo = svclassifier.fit(X_train, y_train)\n",
        "    y_pred = modelo.predict(X_test)\n",
        "    print()\n",
        "    \n",
        "    print(confusion_matrix(y_test, y_pred))\n",
        "    print(classification_report(y_test, y_pred, digits =6, labels=[0,1],zero_division=1))\n",
        "    s = roc_auc_score(y_test, modelo.predict(X_test))\n",
        "    print(f'Best val auc: {s: .4f}')\n",
        "    print()"
      ],
      "metadata": {
        "colab": {
          "base_uri": "https://localhost:8080/"
        },
        "id": "2jDNT-6A9ex0",
        "outputId": "38094245-c06f-4e25-8258-693ba06b95fb"
      },
      "execution_count": 22,
      "outputs": [
        {
          "output_type": "stream",
          "name": "stdout",
          "text": [
            "\n",
            "[[1233 1432]\n",
            " [  48 2569]]\n",
            "              precision    recall  f1-score   support\n",
            "\n",
            "           0   0.962529  0.462664  0.624937      2665\n",
            "           1   0.642089  0.981658  0.776367      2617\n",
            "\n",
            "    accuracy                       0.719803      5282\n",
            "   macro avg   0.802309  0.722161  0.700652      5282\n",
            "weighted avg   0.803765  0.719803  0.699964      5282\n",
            "\n",
            "Best val auc:  0.7222\n",
            "\n",
            "\n",
            "[[1291 1395]\n",
            " [  52 2544]]\n",
            "              precision    recall  f1-score   support\n",
            "\n",
            "           0   0.961281  0.480640  0.640854      2686\n",
            "           1   0.645849  0.979969  0.778577      2596\n",
            "\n",
            "    accuracy                       0.726051      5282\n",
            "   macro avg   0.803565  0.730305  0.709715      5282\n",
            "weighted avg   0.806252  0.726051  0.708542      5282\n",
            "\n",
            "Best val auc:  0.7303\n",
            "\n",
            "\n",
            "[[1283 1377]\n",
            " [  52 2570]]\n",
            "              precision    recall  f1-score   support\n",
            "\n",
            "           0   0.961049  0.482331  0.642303      2660\n",
            "           1   0.651127  0.980168  0.782463      2622\n",
            "\n",
            "    accuracy                       0.729459      5282\n",
            "   macro avg   0.806088  0.731249  0.712383      5282\n",
            "weighted avg   0.807203  0.729459  0.711879      5282\n",
            "\n",
            "Best val auc:  0.7312\n",
            "\n",
            "\n",
            "[[1295 1317]\n",
            " [  65 2605]]\n",
            "              precision    recall  f1-score   support\n",
            "\n",
            "           0   0.952206  0.495789  0.652064      2612\n",
            "           1   0.664202  0.975655  0.790352      2670\n",
            "\n",
            "    accuracy                       0.738357      5282\n",
            "   macro avg   0.808204  0.735722  0.721208      5282\n",
            "weighted avg   0.806623  0.738357  0.721967      5282\n",
            "\n",
            "Best val auc:  0.7357\n",
            "\n",
            "\n",
            "[[1229 1355]\n",
            " [  54 2643]]\n",
            "              precision    recall  f1-score   support\n",
            "\n",
            "           0   0.957911  0.475619  0.635635      2584\n",
            "           1   0.661081  0.979978  0.789544      2697\n",
            "\n",
            "    accuracy                       0.733194      5281\n",
            "   macro avg   0.809496  0.727798  0.712590      5281\n",
            "weighted avg   0.806320  0.733194  0.714236      5281\n",
            "\n",
            "Best val auc:  0.7278\n",
            "\n"
          ]
        }
      ]
    },
    {
      "cell_type": "markdown",
      "source": [
        "**Curva ROC Modelo maquina de soporte Vectorial SVC**"
      ],
      "metadata": {
        "id": "dX5GjcY293M2"
      }
    },
    {
      "cell_type": "code",
      "source": [
        "#Curva ROC\n",
        "\n",
        "classes = svclassifier.predict(X_test)\n",
        "ns_probs = [0 for _ in range(len(y_test))]\n",
        "ns_auc = roc_auc_score(y_test, ns_probs,average='weighted')\n",
        "svclassifier_auc = roc_auc_score(y_test,classes,average='weighted')\n",
        "aps = average_precision_score(y_test, ns_probs)\n",
        "\n",
        "print(\"Average_presicion_score \"+str(aps))\n",
        "print('Sin entrenar: ROC AUC=%.3f' % (ns_auc))\n",
        "print('Algoritmo SVC: ROC AUC=%.3f' % (svclassifier_auc))\n",
        "svclassifier_probs = classes[:]\n",
        "ns_fpr, ns_tpr, _ = roc_curve(y_test, ns_probs)\n",
        "pyplot.plot(ns_fpr, ns_tpr, linestyle='--', label='Sin entrenar')\n",
        "svclassifier_fpr, classifier_tpr, _ = roc_curve(y_test, svclassifier_probs)\n",
        "print()\n",
        "pyplot.plot(svclassifier_fpr, classifier_tpr, marker='.', label='Curva Maquina de soporte vectorial')\n",
        "pyplot.xlabel('Tasa de Falsos Positivos')\n",
        "pyplot.ylabel('Tasa de Verdaderos Positivos')\n",
        "pyplot.legend()\n",
        "pyplot.show()\n",
        "print()"
      ],
      "metadata": {
        "colab": {
          "base_uri": "https://localhost:8080/",
          "height": 536
        },
        "id": "NzRV2YpY-G0L",
        "outputId": "fda85c43-db87-4e75-cc7d-46a8ef4a92c0"
      },
      "execution_count": 23,
      "outputs": [
        {
          "output_type": "stream",
          "name": "stdout",
          "text": [
            "Average_presicion_score 0.5106987313008899\n",
            "Sin entrenar: ROC AUC=0.500\n",
            "Algoritmo SVC: ROC AUC=0.728\n",
            "\n"
          ]
        },
        {
          "output_type": "display_data",
          "data": {
            "text/plain": [
              "<Figure size 640x480 with 1 Axes>"
            ],
            "image/png": "[encoded data removed]"
          },
          "metadata": {}
        },
        {
          "output_type": "stream",
          "name": "stdout",
          "text": [
            "\n"
          ]
        }
      ]
    },
    {
      "cell_type": "markdown",
      "source": [
        "**Modelo de clasificación random Forest Entrenamiento con el 90 % de los datos**\n",
        "\n",
        "https://scikit-learn.org/stable/modules/generated/sklearn.ensemble.RandomForestClassifier.html"
      ],
      "metadata": {
        "id": "Ftt7cWwJ-TwK"
      }
    },
    {
      "cell_type": "code",
      "source": [
        "#X = df[:len(df)]\n",
        "#y = df['stroke']\n",
        "#X = X.drop(columns=['stroke'])\n",
        "\n",
        "weight = dar_peso_clase() \n",
        "\n",
        "kf = KFokf = KFold(n_splits=50, random_state = True,shuffle=True)\n",
        "\n",
        "#class_weight = {0: Peso_por_Clase[0], 1: Peso_por_Clase[1]\n",
        "#max_features{“sqrt”, “log2”, None}, int or float, default=”sqrt”\n",
        "#  random_state=True,\n",
        "#min_weight_fraction_leaf=0.00005,\n",
        "#n_estimators=5,\n",
        "#min_impurity_decrease=0.005,\n",
        "# ccp_alpha=0.000001,\n",
        "# max_features =\"sqrt\",\n",
        "#  warm_start=True,\n",
        "#  n_jobs=2,\n",
        "X_test =0\n",
        "Y_test =0\n",
        "classifier = RandomForestClassifier(min_samples_split=10,\n",
        "                                    ccp_alpha=0.000001,\n",
        "                                    criterion='gini',\n",
        "                                    class_weight = {0: weight[0], 1: weight[1]},\n",
        "                                    random_state=True)\n",
        "\n",
        "for train_index, test_index in kf.split(X):\n",
        "    \n",
        "    #Xtrain, Xtest = X.iloc[train_index], X.iloc[test_index]\n",
        "    Xtrain, Xtest = X[train_index], X[test_index]\n",
        "    ytrain, ytest = y.iloc[train_index], y.iloc[test_index]\n",
        "    modelo = classifier.fit(Xtrain, ytrain)\n",
        "    ypred = modelo.predict(Xtest)\n",
        "\n",
        "    print()\n",
        "    print(confusion_matrix(ytest, ypred))\n",
        "    print(classification_report(ytest, ypred, digits =4, labels=[0,1]))\n",
        "    s = roc_auc_score(ytest, modelo.predict(Xtest))\n",
        "    print(f'Best val auc: {s: .4f}')"
      ],
      "metadata": {
        "colab": {
          "base_uri": "https://localhost:8080/"
        },
        "id": "4ST_qOVk-mz1",
        "outputId": "6587c227-92dd-4fcf-df65-26962ac40ccc"
      },
      "execution_count": 15,
      "outputs": [
        {
          "output_type": "stream",
          "name": "stdout",
          "text": [
            "\n",
            "[[185  77]\n",
            " [ 20 247]]\n",
            "              precision    recall  f1-score   support\n",
            "\n",
            "           0     0.9024    0.7061    0.7923       262\n",
            "           1     0.7623    0.9251    0.8359       267\n",
            "\n",
            "    accuracy                         0.8166       529\n",
            "   macro avg     0.8324    0.8156    0.8141       529\n",
            "weighted avg     0.8317    0.8166    0.8143       529\n",
            "\n",
            "Best val auc:  0.8156\n",
            "\n",
            "[[196  76]\n",
            " [ 19 238]]\n",
            "              precision    recall  f1-score   support\n",
            "\n",
            "           0     0.9116    0.7206    0.8049       272\n",
            "           1     0.7580    0.9261    0.8336       257\n",
            "\n",
            "    accuracy                         0.8204       529\n",
            "   macro avg     0.8348    0.8233    0.8193       529\n",
            "weighted avg     0.8370    0.8204    0.8189       529\n",
            "\n",
            "Best val auc:  0.8233\n",
            "\n",
            "[[174  79]\n",
            " [ 29 247]]\n",
            "              precision    recall  f1-score   support\n",
            "\n",
            "           0     0.8571    0.6877    0.7632       253\n",
            "           1     0.7577    0.8949    0.8206       276\n",
            "\n",
            "    accuracy                         0.7958       529\n",
            "   macro avg     0.8074    0.7913    0.7919       529\n",
            "weighted avg     0.8052    0.7958    0.7931       529\n",
            "\n",
            "Best val auc:  0.7913\n",
            "\n",
            "[[202  61]\n",
            " [ 28 238]]\n",
            "              precision    recall  f1-score   support\n",
            "\n",
            "           0     0.8783    0.7681    0.8195       263\n",
            "           1     0.7960    0.8947    0.8425       266\n",
            "\n",
            "    accuracy                         0.8318       529\n",
            "   macro avg     0.8371    0.8314    0.8310       529\n",
            "weighted avg     0.8369    0.8318    0.8310       529\n",
            "\n",
            "Best val auc:  0.8314\n",
            "\n",
            "[[210  79]\n",
            " [ 33 207]]\n",
            "              precision    recall  f1-score   support\n",
            "\n",
            "           0     0.8642    0.7266    0.7895       289\n",
            "           1     0.7238    0.8625    0.7871       240\n",
            "\n",
            "    accuracy                         0.7883       529\n",
            "   macro avg     0.7940    0.7946    0.7883       529\n",
            "weighted avg     0.8005    0.7883    0.7884       529\n",
            "\n",
            "Best val auc:  0.7946\n",
            "\n",
            "[[192  76]\n",
            " [ 21 240]]\n",
            "              precision    recall  f1-score   support\n",
            "\n",
            "           0     0.9014    0.7164    0.7983       268\n",
            "           1     0.7595    0.9195    0.8319       261\n",
            "\n",
            "    accuracy                         0.8166       529\n",
            "   macro avg     0.8305    0.8180    0.8151       529\n",
            "weighted avg     0.8314    0.8166    0.8149       529\n",
            "\n",
            "Best val auc:  0.8180\n",
            "\n",
            "[[188  76]\n",
            " [ 25 240]]\n",
            "              precision    recall  f1-score   support\n",
            "\n",
            "           0     0.8826    0.7121    0.7883       264\n",
            "           1     0.7595    0.9057    0.8262       265\n",
            "\n",
            "    accuracy                         0.8091       529\n",
            "   macro avg     0.8211    0.8089    0.8072       529\n",
            "weighted avg     0.8209    0.8091    0.8072       529\n",
            "\n",
            "Best val auc:  0.8089\n",
            "\n",
            "[[178  84]\n",
            " [ 29 238]]\n",
            "              precision    recall  f1-score   support\n",
            "\n",
            "           0     0.8599    0.6794    0.7591       262\n",
            "           1     0.7391    0.8914    0.8081       267\n",
            "\n",
            "    accuracy                         0.7864       529\n",
            "   macro avg     0.7995    0.7854    0.7836       529\n",
            "weighted avg     0.7989    0.7864    0.7838       529\n",
            "\n",
            "Best val auc:  0.7854\n",
            "\n",
            "[[202  74]\n",
            " [ 23 230]]\n",
            "              precision    recall  f1-score   support\n",
            "\n",
            "           0     0.8978    0.7319    0.8064       276\n",
            "           1     0.7566    0.9091    0.8259       253\n",
            "\n",
            "    accuracy                         0.8166       529\n",
            "   macro avg     0.8272    0.8205    0.8161       529\n",
            "weighted avg     0.8302    0.8166    0.8157       529\n",
            "\n",
            "Best val auc:  0.8205\n",
            "\n",
            "[[182  78]\n",
            " [ 20 248]]\n",
            "              precision    recall  f1-score   support\n",
            "\n",
            "           0     0.9010    0.7000    0.7879       260\n",
            "           1     0.7607    0.9254    0.8350       268\n",
            "\n",
            "    accuracy                         0.8144       528\n",
            "   macro avg     0.8309    0.8127    0.8114       528\n",
            "weighted avg     0.8298    0.8144    0.8118       528\n",
            "\n",
            "Best val auc:  0.8127\n",
            "\n",
            "[[201  77]\n",
            " [ 24 226]]\n",
            "              precision    recall  f1-score   support\n",
            "\n",
            "           0     0.8933    0.7230    0.7992       278\n",
            "           1     0.7459    0.9040    0.8174       250\n",
            "\n",
            "    accuracy                         0.8087       528\n",
            "   macro avg     0.8196    0.8135    0.8083       528\n",
            "weighted avg     0.8235    0.8087    0.8078       528\n",
            "\n",
            "Best val auc:  0.8135\n",
            "\n",
            "[[187  64]\n",
            " [ 30 247]]\n",
            "              precision    recall  f1-score   support\n",
            "\n",
            "           0     0.8618    0.7450    0.7991       251\n",
            "           1     0.7942    0.8917    0.8401       277\n",
            "\n",
            "    accuracy                         0.8220       528\n",
            "   macro avg     0.8280    0.8184    0.8196       528\n",
            "weighted avg     0.8263    0.8220    0.8206       528\n",
            "\n",
            "Best val auc:  0.8184\n",
            "\n",
            "[[201  68]\n",
            " [ 30 229]]\n",
            "              precision    recall  f1-score   support\n",
            "\n",
            "           0     0.8701    0.7472    0.8040       269\n",
            "           1     0.7710    0.8842    0.8237       259\n",
            "\n",
            "    accuracy                         0.8144       528\n",
            "   macro avg     0.8206    0.8157    0.8139       528\n",
            "weighted avg     0.8215    0.8144    0.8137       528\n",
            "\n",
            "Best val auc:  0.8157\n",
            "\n",
            "[[193  81]\n",
            " [ 19 235]]\n",
            "              precision    recall  f1-score   support\n",
            "\n",
            "           0     0.9104    0.7044    0.7942       274\n",
            "           1     0.7437    0.9252    0.8246       254\n",
            "\n",
            "    accuracy                         0.8106       528\n",
            "   macro avg     0.8270    0.8148    0.8094       528\n",
            "weighted avg     0.8302    0.8106    0.8088       528\n",
            "\n",
            "Best val auc:  0.8148\n",
            "\n",
            "[[207  64]\n",
            " [ 32 225]]\n",
            "              precision    recall  f1-score   support\n",
            "\n",
            "           0     0.8661    0.7638    0.8118       271\n",
            "           1     0.7785    0.8755    0.8242       257\n",
            "\n",
            "    accuracy                         0.8182       528\n",
            "   macro avg     0.8223    0.8197    0.8180       528\n",
            "weighted avg     0.8235    0.8182    0.8178       528\n",
            "\n",
            "Best val auc:  0.8197\n",
            "\n",
            "[[190  73]\n",
            " [ 32 233]]\n",
            "              precision    recall  f1-score   support\n",
            "\n",
            "           0     0.8559    0.7224    0.7835       263\n",
            "           1     0.7614    0.8792    0.8161       265\n",
            "\n",
            "    accuracy                         0.8011       528\n",
            "   macro avg     0.8086    0.8008    0.7998       528\n",
            "weighted avg     0.8085    0.8011    0.7999       528\n",
            "\n",
            "Best val auc:  0.8008\n",
            "\n",
            "[[200  64]\n",
            " [ 22 242]]\n",
            "              precision    recall  f1-score   support\n",
            "\n",
            "           0     0.9009    0.7576    0.8230       264\n",
            "           1     0.7908    0.9167    0.8491       264\n",
            "\n",
            "    accuracy                         0.8371       528\n",
            "   macro avg     0.8459    0.8371    0.8361       528\n",
            "weighted avg     0.8459    0.8371    0.8361       528\n",
            "\n",
            "Best val auc:  0.8371\n",
            "\n",
            "[[202  71]\n",
            " [ 37 218]]\n",
            "              precision    recall  f1-score   support\n",
            "\n",
            "           0     0.8452    0.7399    0.7891       273\n",
            "           1     0.7543    0.8549    0.8015       255\n",
            "\n",
            "    accuracy                         0.7955       528\n",
            "   macro avg     0.7998    0.7974    0.7953       528\n",
            "weighted avg     0.8013    0.7955    0.7951       528\n",
            "\n",
            "Best val auc:  0.7974\n",
            "\n",
            "[[205  70]\n",
            " [ 23 230]]\n",
            "              precision    recall  f1-score   support\n",
            "\n",
            "           0     0.8991    0.7455    0.8151       275\n",
            "           1     0.7667    0.9091    0.8318       253\n",
            "\n",
            "    accuracy                         0.8239       528\n",
            "   macro avg     0.8329    0.8273    0.8235       528\n",
            "weighted avg     0.8357    0.8239    0.8231       528\n",
            "\n",
            "Best val auc:  0.8273\n",
            "\n",
            "[[197  71]\n",
            " [ 20 240]]\n",
            "              precision    recall  f1-score   support\n",
            "\n",
            "           0     0.9078    0.7351    0.8124       268\n",
            "           1     0.7717    0.9231    0.8406       260\n",
            "\n",
            "    accuracy                         0.8277       528\n",
            "   macro avg     0.8398    0.8291    0.8265       528\n",
            "weighted avg     0.8408    0.8277    0.8263       528\n",
            "\n",
            "Best val auc:  0.8291\n",
            "\n",
            "[[184  68]\n",
            " [ 26 250]]\n",
            "              precision    recall  f1-score   support\n",
            "\n",
            "           0     0.8762    0.7302    0.7965       252\n",
            "           1     0.7862    0.9058    0.8418       276\n",
            "\n",
            "    accuracy                         0.8220       528\n",
            "   macro avg     0.8312    0.8180    0.8191       528\n",
            "weighted avg     0.8291    0.8220    0.8202       528\n",
            "\n",
            "Best val auc:  0.8180\n",
            "\n",
            "[[181  68]\n",
            " [ 33 246]]\n",
            "              precision    recall  f1-score   support\n",
            "\n",
            "           0     0.8458    0.7269    0.7819       249\n",
            "           1     0.7834    0.8817    0.8297       279\n",
            "\n",
            "    accuracy                         0.8087       528\n",
            "   macro avg     0.8146    0.8043    0.8058       528\n",
            "weighted avg     0.8128    0.8087    0.8071       528\n",
            "\n",
            "Best val auc:  0.8043\n",
            "\n",
            "[[181  76]\n",
            " [ 29 242]]\n",
            "              precision    recall  f1-score   support\n",
            "\n",
            "           0     0.8619    0.7043    0.7752       257\n",
            "           1     0.7610    0.8930    0.8217       271\n",
            "\n",
            "    accuracy                         0.8011       528\n",
            "   macro avg     0.8115    0.7986    0.7984       528\n",
            "weighted avg     0.8101    0.8011    0.7991       528\n",
            "\n",
            "Best val auc:  0.7986\n",
            "\n",
            "[[204  67]\n",
            " [ 29 228]]\n",
            "              precision    recall  f1-score   support\n",
            "\n",
            "           0     0.8755    0.7528    0.8095       271\n",
            "           1     0.7729    0.8872    0.8261       257\n",
            "\n",
            "    accuracy                         0.8182       528\n",
            "   macro avg     0.8242    0.8200    0.8178       528\n",
            "weighted avg     0.8256    0.8182    0.8176       528\n",
            "\n",
            "Best val auc:  0.8200\n",
            "\n",
            "[[187  72]\n",
            " [ 25 244]]\n",
            "              precision    recall  f1-score   support\n",
            "\n",
            "           0     0.8821    0.7220    0.7941       259\n",
            "           1     0.7722    0.9071    0.8342       269\n",
            "\n",
            "    accuracy                         0.8163       528\n",
            "   macro avg     0.8271    0.8145    0.8141       528\n",
            "weighted avg     0.8261    0.8163    0.8145       528\n",
            "\n",
            "Best val auc:  0.8145\n",
            "\n",
            "[[198  78]\n",
            " [ 30 222]]\n",
            "              precision    recall  f1-score   support\n",
            "\n",
            "           0     0.8684    0.7174    0.7857       276\n",
            "           1     0.7400    0.8810    0.8043       252\n",
            "\n",
            "    accuracy                         0.7955       528\n",
            "   macro avg     0.8042    0.7992    0.7950       528\n",
            "weighted avg     0.8071    0.7955    0.7946       528\n",
            "\n",
            "Best val auc:  0.7992\n",
            "\n",
            "[[202  67]\n",
            " [ 26 233]]\n",
            "              precision    recall  f1-score   support\n",
            "\n",
            "           0     0.8860    0.7509    0.8129       269\n",
            "           1     0.7767    0.8996    0.8336       259\n",
            "\n",
            "    accuracy                         0.8239       528\n",
            "   macro avg     0.8313    0.8253    0.8233       528\n",
            "weighted avg     0.8324    0.8239    0.8231       528\n",
            "\n",
            "Best val auc:  0.8253\n",
            "\n",
            "[[203  75]\n",
            " [ 27 223]]\n",
            "              precision    recall  f1-score   support\n",
            "\n",
            "           0     0.8826    0.7302    0.7992       278\n",
            "           1     0.7483    0.8920    0.8139       250\n",
            "\n",
            "    accuracy                         0.8068       528\n",
            "   macro avg     0.8155    0.8111    0.8065       528\n",
            "weighted avg     0.8190    0.8068    0.8062       528\n",
            "\n",
            "Best val auc:  0.8111\n",
            "\n",
            "[[215  72]\n",
            " [ 32 209]]\n",
            "              precision    recall  f1-score   support\n",
            "\n",
            "           0     0.8704    0.7491    0.8052       287\n",
            "           1     0.7438    0.8672    0.8008       241\n",
            "\n",
            "    accuracy                         0.8030       528\n",
            "   macro avg     0.8071    0.8082    0.8030       528\n",
            "weighted avg     0.8126    0.8030    0.8032       528\n",
            "\n",
            "Best val auc:  0.8082\n",
            "\n",
            "[[188  72]\n",
            " [ 23 245]]\n",
            "              precision    recall  f1-score   support\n",
            "\n",
            "           0     0.8910    0.7231    0.7983       260\n",
            "           1     0.7729    0.9142    0.8376       268\n",
            "\n",
            "    accuracy                         0.8201       528\n",
            "   macro avg     0.8319    0.8186    0.8180       528\n",
            "weighted avg     0.8310    0.8201    0.8183       528\n",
            "\n",
            "Best val auc:  0.8186\n",
            "\n",
            "[[191  62]\n",
            " [ 20 255]]\n",
            "              precision    recall  f1-score   support\n",
            "\n",
            "           0     0.9052    0.7549    0.8233       253\n",
            "           1     0.8044    0.9273    0.8615       275\n",
            "\n",
            "    accuracy                         0.8447       528\n",
            "   macro avg     0.8548    0.8411    0.8424       528\n",
            "weighted avg     0.8527    0.8447    0.8432       528\n",
            "\n",
            "Best val auc:  0.8411\n",
            "\n",
            "[[198  62]\n",
            " [ 25 243]]\n",
            "              precision    recall  f1-score   support\n",
            "\n",
            "           0     0.8879    0.7615    0.8199       260\n",
            "           1     0.7967    0.9067    0.8482       268\n",
            "\n",
            "    accuracy                         0.8352       528\n",
            "   macro avg     0.8423    0.8341    0.8340       528\n",
            "weighted avg     0.8416    0.8352    0.8342       528\n",
            "\n",
            "Best val auc:  0.8341\n",
            "\n",
            "[[204  72]\n",
            " [ 28 224]]\n",
            "              precision    recall  f1-score   support\n",
            "\n",
            "           0     0.8793    0.7391    0.8031       276\n",
            "           1     0.7568    0.8889    0.8175       252\n",
            "\n",
            "    accuracy                         0.8106       528\n",
            "   macro avg     0.8180    0.8140    0.8103       528\n",
            "weighted avg     0.8208    0.8106    0.8100       528\n",
            "\n",
            "Best val auc:  0.8140\n",
            "\n",
            "[[209  69]\n",
            " [ 35 215]]\n",
            "              precision    recall  f1-score   support\n",
            "\n",
            "           0     0.8566    0.7518    0.8008       278\n",
            "           1     0.7570    0.8600    0.8052       250\n",
            "\n",
            "    accuracy                         0.8030       528\n",
            "   macro avg     0.8068    0.8059    0.8030       528\n",
            "weighted avg     0.8094    0.8030    0.8029       528\n",
            "\n",
            "Best val auc:  0.8059\n",
            "\n",
            "[[177  64]\n",
            " [ 30 257]]\n",
            "              precision    recall  f1-score   support\n",
            "\n",
            "           0     0.8551    0.7344    0.7902       241\n",
            "           1     0.8006    0.8955    0.8454       287\n",
            "\n",
            "    accuracy                         0.8220       528\n",
            "   macro avg     0.8278    0.8150    0.8178       528\n",
            "weighted avg     0.8255    0.8220    0.8202       528\n",
            "\n",
            "Best val auc:  0.8150\n",
            "\n",
            "[[180  80]\n",
            " [ 22 246]]\n",
            "              precision    recall  f1-score   support\n",
            "\n",
            "           0     0.8911    0.6923    0.7792       260\n",
            "           1     0.7546    0.9179    0.8283       268\n",
            "\n",
            "    accuracy                         0.8068       528\n",
            "   macro avg     0.8228    0.8051    0.8038       528\n",
            "weighted avg     0.8218    0.8068    0.8041       528\n",
            "\n",
            "Best val auc:  0.8051\n",
            "\n",
            "[[210  65]\n",
            " [ 18 235]]\n",
            "              precision    recall  f1-score   support\n",
            "\n",
            "           0     0.9211    0.7636    0.8350       275\n",
            "           1     0.7833    0.9289    0.8499       253\n",
            "\n",
            "    accuracy                         0.8428       528\n",
            "   macro avg     0.8522    0.8462    0.8424       528\n",
            "weighted avg     0.8551    0.8428    0.8421       528\n",
            "\n",
            "Best val auc:  0.8462\n",
            "\n",
            "[[204  53]\n",
            " [ 17 254]]\n",
            "              precision    recall  f1-score   support\n",
            "\n",
            "           0     0.9231    0.7938    0.8536       257\n",
            "           1     0.8274    0.9373    0.8789       271\n",
            "\n",
            "    accuracy                         0.8674       528\n",
            "   macro avg     0.8752    0.8655    0.8662       528\n",
            "weighted avg     0.8740    0.8674    0.8666       528\n",
            "\n",
            "Best val auc:  0.8655\n",
            "\n",
            "[[187  72]\n",
            " [ 24 245]]\n",
            "              precision    recall  f1-score   support\n",
            "\n",
            "           0     0.8863    0.7220    0.7957       259\n",
            "           1     0.7729    0.9108    0.8362       269\n",
            "\n",
            "    accuracy                         0.8182       528\n",
            "   macro avg     0.8296    0.8164    0.8160       528\n",
            "weighted avg     0.8285    0.8182    0.8163       528\n",
            "\n",
            "Best val auc:  0.8164\n",
            "\n",
            "[[183  69]\n",
            " [ 29 247]]\n",
            "              precision    recall  f1-score   support\n",
            "\n",
            "           0     0.8632    0.7262    0.7888       252\n",
            "           1     0.7816    0.8949    0.8345       276\n",
            "\n",
            "    accuracy                         0.8144       528\n",
            "   macro avg     0.8224    0.8106    0.8116       528\n",
            "weighted avg     0.8206    0.8144    0.8127       528\n",
            "\n",
            "Best val auc:  0.8106\n",
            "\n",
            "[[194  75]\n",
            " [ 17 242]]\n",
            "              precision    recall  f1-score   support\n",
            "\n",
            "           0     0.9194    0.7212    0.8083       269\n",
            "           1     0.7634    0.9344    0.8403       259\n",
            "\n",
            "    accuracy                         0.8258       528\n",
            "   macro avg     0.8414    0.8278    0.8243       528\n",
            "weighted avg     0.8429    0.8258    0.8240       528\n",
            "\n",
            "Best val auc:  0.8278\n",
            "\n",
            "[[213  62]\n",
            " [ 22 231]]\n",
            "              precision    recall  f1-score   support\n",
            "\n",
            "           0     0.9064    0.7745    0.8353       275\n",
            "           1     0.7884    0.9130    0.8462       253\n",
            "\n",
            "    accuracy                         0.8409       528\n",
            "   macro avg     0.8474    0.8438    0.8407       528\n",
            "weighted avg     0.8498    0.8409    0.8405       528\n",
            "\n",
            "Best val auc:  0.8438\n",
            "\n",
            "[[186  73]\n",
            " [ 21 248]]\n",
            "              precision    recall  f1-score   support\n",
            "\n",
            "           0     0.8986    0.7181    0.7983       259\n",
            "           1     0.7726    0.9219    0.8407       269\n",
            "\n",
            "    accuracy                         0.8220       528\n",
            "   macro avg     0.8356    0.8200    0.8195       528\n",
            "weighted avg     0.8344    0.8220    0.8199       528\n",
            "\n",
            "Best val auc:  0.8200\n",
            "\n",
            "[[177  74]\n",
            " [ 24 253]]\n",
            "              precision    recall  f1-score   support\n",
            "\n",
            "           0     0.8806    0.7052    0.7832       251\n",
            "           1     0.7737    0.9134    0.8377       277\n",
            "\n",
            "    accuracy                         0.8144       528\n",
            "   macro avg     0.8271    0.8093    0.8105       528\n",
            "weighted avg     0.8245    0.8144    0.8118       528\n",
            "\n",
            "Best val auc:  0.8093\n",
            "\n",
            "[[183  61]\n",
            " [ 25 259]]\n",
            "              precision    recall  f1-score   support\n",
            "\n",
            "           0     0.8798    0.7500    0.8097       244\n",
            "           1     0.8094    0.9120    0.8576       284\n",
            "\n",
            "    accuracy                         0.8371       528\n",
            "   macro avg     0.8446    0.8310    0.8337       528\n",
            "weighted avg     0.8419    0.8371    0.8355       528\n",
            "\n",
            "Best val auc:  0.8310\n",
            "\n",
            "[[190  64]\n",
            " [ 28 246]]\n",
            "              precision    recall  f1-score   support\n",
            "\n",
            "           0     0.8716    0.7480    0.8051       254\n",
            "           1     0.7935    0.8978    0.8425       274\n",
            "\n",
            "    accuracy                         0.8258       528\n",
            "   macro avg     0.8326    0.8229    0.8238       528\n",
            "weighted avg     0.8311    0.8258    0.8245       528\n",
            "\n",
            "Best val auc:  0.8229\n",
            "\n",
            "[[190  79]\n",
            " [ 26 233]]\n",
            "              precision    recall  f1-score   support\n",
            "\n",
            "           0     0.8796    0.7063    0.7835       269\n",
            "           1     0.7468    0.8996    0.8161       259\n",
            "\n",
            "    accuracy                         0.8011       528\n",
            "   macro avg     0.8132    0.8030    0.7998       528\n",
            "weighted avg     0.8145    0.8011    0.7995       528\n",
            "\n",
            "Best val auc:  0.8030\n",
            "\n",
            "[[188  59]\n",
            " [ 30 251]]\n",
            "              precision    recall  f1-score   support\n",
            "\n",
            "           0     0.8624    0.7611    0.8086       247\n",
            "           1     0.8097    0.8932    0.8494       281\n",
            "\n",
            "    accuracy                         0.8314       528\n",
            "   macro avg     0.8360    0.8272    0.8290       528\n",
            "weighted avg     0.8343    0.8314    0.8303       528\n",
            "\n",
            "Best val auc:  0.8272\n",
            "\n",
            "[[192  71]\n",
            " [ 26 239]]\n",
            "              precision    recall  f1-score   support\n",
            "\n",
            "           0     0.8807    0.7300    0.7983       263\n",
            "           1     0.7710    0.9019    0.8313       265\n",
            "\n",
            "    accuracy                         0.8163       528\n",
            "   macro avg     0.8259    0.8160    0.8148       528\n",
            "weighted avg     0.8256    0.8163    0.8149       528\n",
            "\n",
            "Best val auc:  0.8160\n",
            "\n",
            "[[178  74]\n",
            " [ 32 244]]\n",
            "              precision    recall  f1-score   support\n",
            "\n",
            "           0     0.8476    0.7063    0.7706       252\n",
            "           1     0.7673    0.8841    0.8215       276\n",
            "\n",
            "    accuracy                         0.7992       528\n",
            "   macro avg     0.8075    0.7952    0.7961       528\n",
            "weighted avg     0.8056    0.7992    0.7972       528\n",
            "\n",
            "Best val auc:  0.7952\n"
          ]
        }
      ]
    },
    {
      "cell_type": "markdown",
      "source": [
        "**Curva ROC, RandomForest**"
      ],
      "metadata": {
        "id": "FXBxnLNO-v7C"
      }
    },
    {
      "cell_type": "code",
      "source": [
        "classes = classifier.predict(Xtest)\n",
        "ns_probs = [0 for _ in range(len(ytest))]\n",
        "ns_auc = roc_auc_score(ytest, ns_probs,average='weighted')\n",
        "classifier_auc = roc_auc_score(ytest,classes,average='weighted')\n",
        "#aps = average_precision_score(ytest, ns_probs)\n",
        "print()\n",
        "#print(\"Average_presicion_score \"+str(aps))\n",
        "print('Sin entrenar: ROC AUC=%.3f' % (ns_auc))\n",
        "print('Algoritmo RandomForest: ROC AUC=%.3f' % (classifier_auc))\n",
        "print()\n",
        "classifier_probs = classes[:]\n",
        "ns_fpr, ns_tpr, _ = roc_curve(ytest, ns_probs)\n",
        "pyplot.plot(ns_fpr, ns_tpr, linestyle='--', label='Sin entrenar')\n",
        "classifier_fpr,classifier_tpr, _ = roc_curve(ytest, classifier_probs)\n",
        "print()\n",
        "pyplot.plot(classifier_fpr,classifier_tpr, marker='.', label='Curva modelo Random Forest')\n",
        "pyplot.xlabel('Tasa de Falsos Positivos')\n",
        "pyplot.ylabel('Tasa de Verdaderos Positivos')\n",
        "pyplot.legend()\n",
        "pyplot.show()"
      ],
      "metadata": {
        "colab": {
          "base_uri": "https://localhost:8080/",
          "height": 536
        },
        "id": "e578BeUL-33c",
        "outputId": "31e07ff1-b0dc-4e6a-c429-99e2e216e4c7"
      },
      "execution_count": 16,
      "outputs": [
        {
          "output_type": "stream",
          "name": "stdout",
          "text": [
            "\n",
            "Sin entrenar: ROC AUC=0.500\n",
            "Algoritmo RandomForest: ROC AUC=0.795\n",
            "\n",
            "\n"
          ]
        },
        {
          "output_type": "display_data",
          "data": {
            "text/plain": [
              "<Figure size 640x480 with 1 Axes>"
            ],
            "image/png": "[encoded data removed]"
          },
          "metadata": {}
        }
      ]
    }
  ]
}